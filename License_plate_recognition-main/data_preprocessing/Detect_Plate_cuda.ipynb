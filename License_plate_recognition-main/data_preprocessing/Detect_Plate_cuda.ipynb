{
 "cells": [
  {
   "cell_type": "code",
   "execution_count": 1,
   "metadata": {},
   "outputs": [],
   "source": [
    "import torch"
   ]
  },
  {
   "cell_type": "code",
   "execution_count": 2,
   "metadata": {},
   "outputs": [
    {
     "data": {
      "text/plain": [
       "False"
      ]
     },
     "execution_count": 2,
     "metadata": {},
     "output_type": "execute_result"
    }
   ],
   "source": [
    "torch.cuda.is_available()"
   ]
  },
  {
   "cell_type": "code",
   "execution_count": 13,
   "metadata": {},
   "outputs": [
    {
     "ename": "ValueError",
     "evalue": "too many values to unpack (expected 2)",
     "output_type": "error",
     "traceback": [
      "\u001b[1;31m---------------------------------------------------------------------------\u001b[0m",
      "\u001b[1;31mValueError\u001b[0m                                Traceback (most recent call last)",
      "\u001b[1;32mc:\\License_plate_reading\\Detect_cuda.ipynb Cell 3'\u001b[0m in \u001b[0;36m<cell line: 1>\u001b[1;34m()\u001b[0m\n\u001b[1;32m----> <a href='vscode-notebook-cell:/c%3A/License_plate_reading/Detect_cuda.ipynb#ch0000002?line=0'>1</a>\u001b[0m model \u001b[39m=\u001b[39m torch\u001b[39m.\u001b[39;49mhub\u001b[39m.\u001b[39;49mload(\u001b[39m'\u001b[39;49m\u001b[39multralytics//yolov5\u001b[39;49m\u001b[39m'\u001b[39;49m, \u001b[39m'\u001b[39;49m\u001b[39mcustom\u001b[39;49m\u001b[39m'\u001b[39;49m, path\u001b[39m=\u001b[39;49m\u001b[39m'\u001b[39;49m\u001b[39mC:\u001b[39;49m\u001b[39m\\\\\u001b[39;49;00m\u001b[39mLicense_plate_reading\u001b[39;49m\u001b[39m\\\\\u001b[39;49;00m\u001b[39mbest.pt\u001b[39;49m\u001b[39m'\u001b[39;49m)\n",
      "File \u001b[1;32m~\\anaconda3\\envs\\DL\\lib\\site-packages\\torch\\hub.py:402\u001b[0m, in \u001b[0;36mload\u001b[1;34m(repo_or_dir, model, source, force_reload, verbose, skip_validation, *args, **kwargs)\u001b[0m\n\u001b[0;32m    <a href='file:///c%3A/Users/nguye/anaconda3/envs/DL/lib/site-packages/torch/hub.py?line=397'>398</a>\u001b[0m     \u001b[39mraise\u001b[39;00m \u001b[39mValueError\u001b[39;00m(\n\u001b[0;32m    <a href='file:///c%3A/Users/nguye/anaconda3/envs/DL/lib/site-packages/torch/hub.py?line=398'>399</a>\u001b[0m         \u001b[39mf\u001b[39m\u001b[39m'\u001b[39m\u001b[39mUnknown source: \u001b[39m\u001b[39m\"\u001b[39m\u001b[39m{\u001b[39;00msource\u001b[39m}\u001b[39;00m\u001b[39m\"\u001b[39m\u001b[39m. Allowed values: \u001b[39m\u001b[39m\"\u001b[39m\u001b[39mgithub\u001b[39m\u001b[39m\"\u001b[39m\u001b[39m | \u001b[39m\u001b[39m\"\u001b[39m\u001b[39mlocal\u001b[39m\u001b[39m\"\u001b[39m\u001b[39m.\u001b[39m\u001b[39m'\u001b[39m)\n\u001b[0;32m    <a href='file:///c%3A/Users/nguye/anaconda3/envs/DL/lib/site-packages/torch/hub.py?line=400'>401</a>\u001b[0m \u001b[39mif\u001b[39;00m source \u001b[39m==\u001b[39m \u001b[39m'\u001b[39m\u001b[39mgithub\u001b[39m\u001b[39m'\u001b[39m:\n\u001b[1;32m--> <a href='file:///c%3A/Users/nguye/anaconda3/envs/DL/lib/site-packages/torch/hub.py?line=401'>402</a>\u001b[0m     repo_or_dir \u001b[39m=\u001b[39m _get_cache_or_reload(repo_or_dir, force_reload, verbose, skip_validation)\n\u001b[0;32m    <a href='file:///c%3A/Users/nguye/anaconda3/envs/DL/lib/site-packages/torch/hub.py?line=403'>404</a>\u001b[0m model \u001b[39m=\u001b[39m _load_local(repo_or_dir, model, \u001b[39m*\u001b[39margs, \u001b[39m*\u001b[39m\u001b[39m*\u001b[39mkwargs)\n\u001b[0;32m    <a href='file:///c%3A/Users/nguye/anaconda3/envs/DL/lib/site-packages/torch/hub.py?line=404'>405</a>\u001b[0m \u001b[39mreturn\u001b[39;00m model\n",
      "File \u001b[1;32m~\\anaconda3\\envs\\DL\\lib\\site-packages\\torch\\hub.py:170\u001b[0m, in \u001b[0;36m_get_cache_or_reload\u001b[1;34m(github, force_reload, verbose, skip_validation)\u001b[0m\n\u001b[0;32m    <a href='file:///c%3A/Users/nguye/anaconda3/envs/DL/lib/site-packages/torch/hub.py?line=167'>168</a>\u001b[0m     os\u001b[39m.\u001b[39mmakedirs(hub_dir)\n\u001b[0;32m    <a href='file:///c%3A/Users/nguye/anaconda3/envs/DL/lib/site-packages/torch/hub.py?line=168'>169</a>\u001b[0m \u001b[39m# Parse github repo information\u001b[39;00m\n\u001b[1;32m--> <a href='file:///c%3A/Users/nguye/anaconda3/envs/DL/lib/site-packages/torch/hub.py?line=169'>170</a>\u001b[0m repo_owner, repo_name, branch \u001b[39m=\u001b[39m _parse_repo_info(github)\n\u001b[0;32m    <a href='file:///c%3A/Users/nguye/anaconda3/envs/DL/lib/site-packages/torch/hub.py?line=170'>171</a>\u001b[0m \u001b[39m# Github allows branch name with slash '/',\u001b[39;00m\n\u001b[0;32m    <a href='file:///c%3A/Users/nguye/anaconda3/envs/DL/lib/site-packages/torch/hub.py?line=171'>172</a>\u001b[0m \u001b[39m# this causes confusion with path on both Linux and Windows.\u001b[39;00m\n\u001b[0;32m    <a href='file:///c%3A/Users/nguye/anaconda3/envs/DL/lib/site-packages/torch/hub.py?line=172'>173</a>\u001b[0m \u001b[39m# Backslash is not allowed in Github branch name so no need to\u001b[39;00m\n\u001b[0;32m    <a href='file:///c%3A/Users/nguye/anaconda3/envs/DL/lib/site-packages/torch/hub.py?line=173'>174</a>\u001b[0m \u001b[39m# to worry about it.\u001b[39;00m\n\u001b[0;32m    <a href='file:///c%3A/Users/nguye/anaconda3/envs/DL/lib/site-packages/torch/hub.py?line=174'>175</a>\u001b[0m normalized_br \u001b[39m=\u001b[39m branch\u001b[39m.\u001b[39mreplace(\u001b[39m'\u001b[39m\u001b[39m/\u001b[39m\u001b[39m'\u001b[39m, \u001b[39m'\u001b[39m\u001b[39m_\u001b[39m\u001b[39m'\u001b[39m)\n",
      "File \u001b[1;32m~\\anaconda3\\envs\\DL\\lib\\site-packages\\torch\\hub.py:117\u001b[0m, in \u001b[0;36m_parse_repo_info\u001b[1;34m(github)\u001b[0m\n\u001b[0;32m    <a href='file:///c%3A/Users/nguye/anaconda3/envs/DL/lib/site-packages/torch/hub.py?line=114'>115</a>\u001b[0m \u001b[39melse\u001b[39;00m:\n\u001b[0;32m    <a href='file:///c%3A/Users/nguye/anaconda3/envs/DL/lib/site-packages/torch/hub.py?line=115'>116</a>\u001b[0m     repo_info, branch \u001b[39m=\u001b[39m github, \u001b[39mNone\u001b[39;00m\n\u001b[1;32m--> <a href='file:///c%3A/Users/nguye/anaconda3/envs/DL/lib/site-packages/torch/hub.py?line=116'>117</a>\u001b[0m repo_owner, repo_name \u001b[39m=\u001b[39m repo_info\u001b[39m.\u001b[39msplit(\u001b[39m'\u001b[39m\u001b[39m/\u001b[39m\u001b[39m'\u001b[39m)\n\u001b[0;32m    <a href='file:///c%3A/Users/nguye/anaconda3/envs/DL/lib/site-packages/torch/hub.py?line=118'>119</a>\u001b[0m \u001b[39mif\u001b[39;00m branch \u001b[39mis\u001b[39;00m \u001b[39mNone\u001b[39;00m:\n\u001b[0;32m    <a href='file:///c%3A/Users/nguye/anaconda3/envs/DL/lib/site-packages/torch/hub.py?line=119'>120</a>\u001b[0m     \u001b[39m# The branch wasn't specified by the user, so we need to figure out the\u001b[39;00m\n\u001b[0;32m    <a href='file:///c%3A/Users/nguye/anaconda3/envs/DL/lib/site-packages/torch/hub.py?line=120'>121</a>\u001b[0m     \u001b[39m# default branch: main or master. Our assumption is that if main exists\u001b[39;00m\n\u001b[0;32m    <a href='file:///c%3A/Users/nguye/anaconda3/envs/DL/lib/site-packages/torch/hub.py?line=121'>122</a>\u001b[0m     \u001b[39m# then it's the default branch, otherwise it's master.\u001b[39;00m\n\u001b[0;32m    <a href='file:///c%3A/Users/nguye/anaconda3/envs/DL/lib/site-packages/torch/hub.py?line=122'>123</a>\u001b[0m     \u001b[39mtry\u001b[39;00m:\n",
      "\u001b[1;31mValueError\u001b[0m: too many values to unpack (expected 2)"
     ]
    }
   ],
   "source": [
    "model = torch.hub.load('ultralytics//yolov5', 'custom', path='C:\\\\License_plate_reading\\\\best.pt') "
   ]
  },
  {
   "cell_type": "code",
   "execution_count": null,
   "metadata": {},
   "outputs": [
    {
     "data": {
      "text/plain": [
       "'model.conf = 0.25  # NMS confidence threshold\\n      iou = 0.45  # NMS IoU threshold\\n      agnostic = False  # NMS class-agnostic\\n      multi_label = False  # NMS multiple labels per box\\n      classes = None  # (optional list) filter by class, i.e. = [0, 15, 16] for COCO persons, cats and dogs\\n      max_det = 1000  # maximum number of detections per image\\n      amp = False  # Automatic Mixed Precision (AMP) inference'"
      ]
     },
     "execution_count": 5,
     "metadata": {},
     "output_type": "execute_result"
    }
   ],
   "source": [
    "\"\"\"model.conf = 0.25  # NMS confidence threshold\n",
    "      iou = 0.45  # NMS IoU threshold\n",
    "      agnostic = False  # NMS class-agnostic\n",
    "      multi_label = False  # NMS multiple labels per box\n",
    "      classes = None  # (optional list) filter by class, i.e. = [0, 15, 16] for COCO persons, cats and dogs\n",
    "      max_det = 1000  # maximum number of detections per image\n",
    "      amp = False  # Automatic Mixed Precision (AMP) inference\"\"\""
   ]
  },
  {
   "cell_type": "code",
   "execution_count": 5,
   "metadata": {},
   "outputs": [
    {
     "data": {
      "text/plain": [
       "device(type='cpu')"
      ]
     },
     "execution_count": 5,
     "metadata": {},
     "output_type": "execute_result"
    }
   ],
   "source": [
    "device = torch.device('cuda' if torch.cuda.is_available() else 'cpu')\n",
    "device"
   ]
  },
  {
   "cell_type": "code",
   "execution_count": null,
   "metadata": {},
   "outputs": [],
   "source": [
    "#using when we have more than 1 device\n",
    "#model.to(device)"
   ]
  },
  {
   "cell_type": "code",
   "execution_count": 6,
   "metadata": {},
   "outputs": [],
   "source": [
    "import cv2\n",
    "import matplotlib.pyplot as plt\n",
    "import matplotlib  \n",
    "matplotlib.use('tkagg')"
   ]
  },
  {
   "cell_type": "code",
   "execution_count": 7,
   "metadata": {},
   "outputs": [],
   "source": [
    "def drawBoundingBoxes(imageData, left, top, right, bottom, color, label):\n",
    "    # left = xmin, top = ymin, right = xmax, bottom = ymax\n",
    "    imgHeight, imgWidth, _ = imageData.shape\n",
    "    thick = int((imgHeight + imgWidth) // 800)\n",
    "    cv2.rectangle(imageData, (left, top), (right, bottom), color, thick)\n",
    "    cv2.putText(imageData, label, (left, top-3), 0, 0.2, color, thick)\n",
    "    return imageData"
   ]
  },
  {
   "cell_type": "code",
   "execution_count": 8,
   "metadata": {},
   "outputs": [],
   "source": [
    "def detect(link):\n",
    "    img = cv2.imread(link)\n",
    "    results = model(img[:, :, ::-1] , size=640) #img[:, :, ::-1] because model run with BGR image\n",
    "    #results.show()\n",
    "    #results.save()\n",
    "    print('Found ' + str(len(results.pandas().xyxy[0].confidence)) + ' License Plate(s) in image.')\n",
    "\n",
    "    for i in range(len(results.xyxy[0])):\n",
    "        xmin, ymin, xmax, ymax, conf = results.xyxy[0][i][:-1].tolist()\n",
    "        img = drawBoundingBoxes(img, int(xmin), int(ymin), int(xmax), int(ymax), color=(0, 255, 0), label=str(round(conf, 2)))\n",
    "\n",
    "    savepath = 'C:\\\\License_plate_reading\\\\detect_result\\\\detect_' +  link.split('\\\\')[-1]\n",
    "    cv2.imwrite(savepath, img)\n",
    "    \n",
    "    print('Confidence:', list(results.pandas().xyxy[0].confidence))\n",
    "\n",
    "    return img"
   ]
  },
  {
   "cell_type": "code",
   "execution_count": 9,
   "metadata": {},
   "outputs": [
    {
     "ename": "NameError",
     "evalue": "name 'model' is not defined",
     "output_type": "error",
     "traceback": [
      "\u001b[1;31m---------------------------------------------------------------------------\u001b[0m",
      "\u001b[1;31mNameError\u001b[0m                                 Traceback (most recent call last)",
      "\u001b[1;32mc:\\License_plate_reading\\Detect_cuda.ipynb Cell 10'\u001b[0m in \u001b[0;36m<cell line: 1>\u001b[1;34m()\u001b[0m\n\u001b[1;32m----> <a href='vscode-notebook-cell:/c%3A/License_plate_reading/Detect_cuda.ipynb#ch0000009?line=0'>1</a>\u001b[0m img_detect \u001b[39m=\u001b[39m detect(\u001b[39m'\u001b[39;49m\u001b[39mC:\u001b[39;49m\u001b[39m\\\\\u001b[39;49;00m\u001b[39mLicense_plate_reading\u001b[39;49m\u001b[39m\\\\\u001b[39;49;00m\u001b[39mtest\u001b[39;49m\u001b[39m\\\\\u001b[39;49;00m\u001b[39m2.jpg\u001b[39;49m\u001b[39m'\u001b[39;49m)\n\u001b[0;32m      <a href='vscode-notebook-cell:/c%3A/License_plate_reading/Detect_cuda.ipynb#ch0000009?line=1'>2</a>\u001b[0m cv2\u001b[39m.\u001b[39mimshow(\u001b[39m'\u001b[39m\u001b[39mdetect\u001b[39m\u001b[39m'\u001b[39m, img_detect)\n\u001b[0;32m      <a href='vscode-notebook-cell:/c%3A/License_plate_reading/Detect_cuda.ipynb#ch0000009?line=2'>3</a>\u001b[0m cv2\u001b[39m.\u001b[39mwaitKey(\u001b[39m0\u001b[39m)\n",
      "\u001b[1;32mc:\\License_plate_reading\\Detect_cuda.ipynb Cell 9'\u001b[0m in \u001b[0;36mdetect\u001b[1;34m(link)\u001b[0m\n\u001b[0;32m      <a href='vscode-notebook-cell:/c%3A/License_plate_reading/Detect_cuda.ipynb#ch0000008?line=0'>1</a>\u001b[0m \u001b[39mdef\u001b[39;00m \u001b[39mdetect\u001b[39m(link):\n\u001b[0;32m      <a href='vscode-notebook-cell:/c%3A/License_plate_reading/Detect_cuda.ipynb#ch0000008?line=1'>2</a>\u001b[0m     img \u001b[39m=\u001b[39m cv2\u001b[39m.\u001b[39mimread(link)\n\u001b[1;32m----> <a href='vscode-notebook-cell:/c%3A/License_plate_reading/Detect_cuda.ipynb#ch0000008?line=2'>3</a>\u001b[0m     results \u001b[39m=\u001b[39m model(img[:, :, ::\u001b[39m-\u001b[39m\u001b[39m1\u001b[39m] , size\u001b[39m=\u001b[39m\u001b[39m640\u001b[39m) \u001b[39m#img[:, :, ::-1] because model run with BGR image\u001b[39;00m\n\u001b[0;32m      <a href='vscode-notebook-cell:/c%3A/License_plate_reading/Detect_cuda.ipynb#ch0000008?line=3'>4</a>\u001b[0m     \u001b[39m#results.show()\u001b[39;00m\n\u001b[0;32m      <a href='vscode-notebook-cell:/c%3A/License_plate_reading/Detect_cuda.ipynb#ch0000008?line=4'>5</a>\u001b[0m     \u001b[39m#results.save()\u001b[39;00m\n\u001b[0;32m      <a href='vscode-notebook-cell:/c%3A/License_plate_reading/Detect_cuda.ipynb#ch0000008?line=5'>6</a>\u001b[0m     \u001b[39mprint\u001b[39m(\u001b[39m'\u001b[39m\u001b[39mFound \u001b[39m\u001b[39m'\u001b[39m \u001b[39m+\u001b[39m \u001b[39mstr\u001b[39m(\u001b[39mlen\u001b[39m(results\u001b[39m.\u001b[39mpandas()\u001b[39m.\u001b[39mxyxy[\u001b[39m0\u001b[39m]\u001b[39m.\u001b[39mconfidence)) \u001b[39m+\u001b[39m \u001b[39m'\u001b[39m\u001b[39m License Plate(s) in image.\u001b[39m\u001b[39m'\u001b[39m)\n",
      "\u001b[1;31mNameError\u001b[0m: name 'model' is not defined"
     ]
    }
   ],
   "source": [
    "img_detect = detect('C:\\\\License_plate_reading\\\\test\\\\2.jpg')\n",
    "cv2.imshow('detect', img_detect)\n",
    "cv2.waitKey(0)"
   ]
  }
 ],
 "metadata": {
  "interpreter": {
   "hash": "8265289a7d39cb6928fd3cc07bfc01ec6ad662d588bd63ab52b7083f941fd012"
  },
  "kernelspec": {
   "display_name": "Python 3.9.7 ('DL')",
   "language": "python",
   "name": "python3"
  },
  "language_info": {
   "codemirror_mode": {
    "name": "ipython",
    "version": 3
   },
   "file_extension": ".py",
   "mimetype": "text/x-python",
   "name": "python",
   "nbconvert_exporter": "python",
   "pygments_lexer": "ipython3",
   "version": "3.8.12"
  },
  "orig_nbformat": 4
 },
 "nbformat": 4,
 "nbformat_minor": 2
}
