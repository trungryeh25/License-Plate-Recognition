{
 "cells": [
  {
   "cell_type": "code",
   "execution_count": 1,
   "metadata": {},
   "outputs": [],
   "source": [
    "import torch "
   ]
  },
  {
   "cell_type": "code",
   "execution_count": 2,
   "metadata": {},
   "outputs": [
    {
     "data": {
      "text/plain": [
       "False"
      ]
     },
     "execution_count": 2,
     "metadata": {},
     "output_type": "execute_result"
    }
   ],
   "source": [
    "torch.cuda.is_available()"
   ]
  },
  {
   "cell_type": "code",
   "execution_count": 3,
   "metadata": {},
   "outputs": [
    {
     "name": "stderr",
     "output_type": "stream",
     "text": [
      "Using cache found in C:\\Users\\nguye/.cache\\torch\\hub\\ultralytics_yolov5_master\n",
      "E:\\Users\\nguye\\anaconda3\\envs\\DL\\lib\\site-packages\\torchvision\\io\\image.py:11: UserWarning: Failed to load image Python extension: Could not find module 'E:\\Users\\nguye\\anaconda3\\envs\\DL\\Lib\\site-packages\\torchvision\\image.pyd' (or one of its dependencies). Try using the full path with constructor syntax.\n",
      "  warn(f\"Failed to load image Python extension: {e}\")\n",
      "YOLOv5  2022-3-16 torch 1.10.2 CUDA:0 (NVIDIA GeForce GTX 1050, 4096MiB)\n",
      "\n",
      "Fusing layers... \n",
      "Model Summary: 213 layers, 7012822 parameters, 0 gradients, 15.8 GFLOPs\n",
      "Adding AutoShape... \n"
     ]
    }
   ],
   "source": [
    "model = torch.hub.load('ultralytics/yolov5', 'custom', path='C:\\\\License_plate_reading\\\\best.pt') "
   ]
  },
  {
   "cell_type": "code",
   "execution_count": 4,
   "metadata": {},
   "outputs": [
    {
     "data": {
      "text/plain": [
       "'model.conf = 0.25  # NMS confidence threshold\\n      iou = 0.45  # NMS IoU threshold\\n      agnostic = False  # NMS class-agnostic\\n      multi_label = False  # NMS multiple labels per box\\n      classes = None  # (optional list) filter by class, i.e. = [0, 15, 16] for COCO persons, cats and dogs\\n      max_det = 1000  # maximum number of detections per image\\n      amp = False  # Automatic Mixed Precision (AMP) inference'"
      ]
     },
     "execution_count": 4,
     "metadata": {},
     "output_type": "execute_result"
    }
   ],
   "source": [
    "\"\"\"model.conf = 0.25  # NMS confidence threshold\n",
    "      iou = 0.45  # NMS IoU threshold\n",
    "      agnostic = False  # NMS class-agnostic\n",
    "      multi_label = False  # NMS multiple labels per box\n",
    "      classes = None  # (optional list) filter by class, i.e. = [0, 15, 16] for COCO persons, cats and dogs\n",
    "      max_det = 1000  # maximum number of detections per image\n",
    "      amp = False  # Automatic Mixed Precision (AMP) inference\"\"\""
   ]
  },
  {
   "cell_type": "code",
   "execution_count": 5,
   "metadata": {},
   "outputs": [
    {
     "data": {
      "text/plain": [
       "device(type='cuda')"
      ]
     },
     "execution_count": 5,
     "metadata": {},
     "output_type": "execute_result"
    }
   ],
   "source": [
    "device = torch.device('cuda' if torch.cuda.is_available() else 'cpu')\n",
    "device"
   ]
  },
  {
   "cell_type": "code",
   "execution_count": 6,
   "metadata": {},
   "outputs": [],
   "source": [
    "#using when we have more than 1 device\n",
    "#model.to(device)"
   ]
  },
  {
   "cell_type": "code",
   "execution_count": 7,
   "metadata": {},
   "outputs": [],
   "source": [
    "import cv2\n",
    "import os"
   ]
  },
  {
   "cell_type": "code",
   "execution_count": 8,
   "metadata": {},
   "outputs": [],
   "source": [
    "filename = os.listdir('C:\\\\License_plate_reading\\\\Argument_Dataset')"
   ]
  },
  {
   "cell_type": "code",
   "execution_count": 9,
   "metadata": {},
   "outputs": [],
   "source": [
    "for i in filename:\n",
    "    img = cv2.imread('C:\\\\License_plate_reading\\\\Argument_Dataset\\\\' + i)[:, :, ::-1]\n",
    "    results = model(img, size=640)\n",
    "    #results.show()\n",
    "    try:\n",
    "        xmin = int(results.pandas().xyxy[0].xmin)\n",
    "        ymin = int(results.pandas().xyxy[0].ymin)\n",
    "        xmax = int(results.pandas().xyxy[0].xmax)\n",
    "        ymax = int(results.pandas().xyxy[0].ymax)\n",
    "\n",
    "        cv2.imwrite('C:\\\\License_plate_reading\\\\plate_detected\\\\' + i, img[ymin:ymax, xmin:xmax])\n",
    "    except:\n",
    "        continue"
   ]
  }
 ],
 "metadata": {
  "interpreter": {
   "hash": "8265289a7d39cb6928fd3cc07bfc01ec6ad662d588bd63ab52b7083f941fd012"
  },
  "kernelspec": {
   "display_name": "Python 3.9.7 ('DL')",
   "language": "python",
   "name": "python3"
  },
  "language_info": {
   "codemirror_mode": {
    "name": "ipython",
    "version": 3
   },
   "file_extension": ".py",
   "mimetype": "text/x-python",
   "name": "python",
   "nbconvert_exporter": "python",
   "pygments_lexer": "ipython3",
   "version": "3.8.12"
  },
  "orig_nbformat": 4
 },
 "nbformat": 4,
 "nbformat_minor": 2
}
