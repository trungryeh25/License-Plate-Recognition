{
 "cells": [
  {
   "cell_type": "code",
   "execution_count": 39,
   "metadata": {},
   "outputs": [],
   "source": [
    "import cv2\n",
    "import random\n",
    "import numpy as np\n",
    "import os"
   ]
  },
  {
   "cell_type": "code",
   "execution_count": 40,
   "metadata": {},
   "outputs": [],
   "source": [
    "def add_boder(image, output_path, low, high):\n",
    "    \"\"\"\n",
    "    low: kich thuoc bien thap nhat (pixel)\n",
    "    hight: kich thuoc bien lon nhat (pixel)\n",
    "    \"\"\"\n",
    "    # random cac kich thuoc bien trong khoang (low, high)\n",
    "    top = random.randint(low, high)\n",
    "    bottom = random.randint(low, high)\n",
    "    left = random.randint(low, high)\n",
    "    right = random.randint(low, high)\n",
    "\n",
    "    original_width, original_height = image.shape[1], image.shape[0]\n",
    "\n",
    "    image = cv2.copyMakeBorder(image, top, bottom, left, right, cv2.BORDER_REPLICATE)\n",
    "\n",
    "    image = cv2.resize(image, (original_width, original_height))\n",
    "    \n",
    "    cv2.imwrite(output_path, image)"
   ]
  },
  {
   "cell_type": "code",
   "execution_count": 41,
   "metadata": {},
   "outputs": [],
   "source": [
    "def change_brightness(image, output_path, value):\n",
    "    \"\"\"\n",
    "    value: do sang thay doi\n",
    "    \"\"\"\n",
    "    ones = np.ones(list(image.shape), dtype=int)\n",
    "    lighter = image + ones * value\n",
    "\n",
    "    temp = lighter.ravel()\n",
    "    for i in range(len(temp)):\n",
    "        if (temp[i] < 0): \n",
    "            temp[i] = 0\n",
    "        if (temp[i] > 255):\n",
    "            temp[i] = 255\n",
    "    \n",
    "    temp = temp.reshape(list(image.shape))\n",
    "    \n",
    "    cv2.imwrite(output_path, temp)"
   ]
  },
  {
   "cell_type": "code",
   "execution_count": 42,
   "metadata": {},
   "outputs": [],
   "source": [
    "file_name = os.listdir('\\\\License_plate_recognition\\\\Dataset\\\\GreenParking')\n",
    "\n",
    "img_link = []\n",
    "for i in file_name:\n",
    "    new_name = '\\\\License_plate_recognition\\\\Dataset\\\\GreenParking\\\\' + i\n",
    "    img_link.append(new_name)"
   ]
  },
  {
   "cell_type": "code",
   "execution_count": 43,
   "metadata": {},
   "outputs": [],
   "source": [
    "try:\n",
    "    os.mkdir('Argument_Dataset')\n",
    "except:\n",
    "    pass"
   ]
  },
  {
   "cell_type": "code",
   "execution_count": 44,
   "metadata": {},
   "outputs": [
    {
     "data": {
      "text/plain": [
       "1748"
      ]
     },
     "execution_count": 44,
     "metadata": {},
     "output_type": "execute_result"
    }
   ],
   "source": [
    "num = len(img_link)\n",
    "num"
   ]
  },
  {
   "cell_type": "code",
   "execution_count": 45,
   "metadata": {},
   "outputs": [
    {
     "name": "stdout",
     "output_type": "stream",
     "text": [
      "100 /1748\n",
      "200 /1748\n",
      "300 /1748\n",
      "400 /1748\n",
      "500 /1748\n",
      "600 /1748\n",
      "700 /1748\n",
      "800 /1748\n",
      "900 /1748\n",
      "1000 /1748\n",
      "1100 /1748\n",
      "1200 /1748\n",
      "1300 /1748\n",
      "1400 /1748\n",
      "1500 /1748\n",
      "1600 /1748\n",
      "1700 /1748\n",
      "done\n"
     ]
    }
   ],
   "source": [
    "k = 0\n",
    "for i in img_link:\n",
    "    img = cv2.imread(i)\n",
    "    name1 = str(k) + 'a'\n",
    "    name2 = str(k) + 'b'\n",
    "    name3 = str(k) + 'c'\n",
    "    name4 = str(k) + 'd'\n",
    "    cv2.imwrite('\\\\License_plate_recognition\\\\Argument_Dataset\\\\pic_' + name1 + '.jpg', img)\n",
    "    change_brightness(img, '\\\\License_plate_recognition\\\\Argument_Dataset\\\\pic_' + name2 + '.jpg', 50)\n",
    "    change_brightness(img, '\\\\License_plate_recognition\\\\Argument_Dataset\\\\pic_' + name3 + '.jpg', -50)\n",
    "    add_boder(img, '\\\\License_plate_recognition\\\\Argument_Dataset\\\\pic_' + name4 + '.jpg', 80, 80)\n",
    "    if (k % 100 == 0) and (k > 0):\n",
    "        print(k, '/1748')\n",
    "    k = k + 1\n",
    "\n",
    "print('done')"
   ]
  },
  {
   "cell_type": "code",
   "execution_count": 49,
   "metadata": {},
   "outputs": [],
   "source": [
    "file_name_new = os.listdir('\\\\License_plate_recognition\\\\Argument_Dataset')\n",
    "\n",
    "img_link_new = []\n",
    "for i in file_name_new:\n",
    "    new_name = '\\\\License_plate_recognition\\\\Argument_Dataset\\\\' + i\n",
    "    img_link_new.append(new_name)"
   ]
  },
  {
   "cell_type": "code",
   "execution_count": 51,
   "metadata": {},
   "outputs": [
    {
     "data": {
      "text/plain": [
       "{(303, 472, 3)}"
      ]
     },
     "execution_count": 51,
     "metadata": {},
     "output_type": "execute_result"
    }
   ],
   "source": [
    "img_shape = []\n",
    "for i in img_link_new:\n",
    "    img = cv2.imread(i)\n",
    "    img_shape.append(img.shape)\n",
    "\n",
    "set(img_shape)"
   ]
  }
 ],
 "metadata": {
  "interpreter": {
   "hash": "d4537f6523d799823cbc379449d384bd78a1ed94685038b8aab56240f567eba2"
  },
  "kernelspec": {
   "display_name": "Python 3.9.9 64-bit (windows store)",
   "language": "python",
   "name": "python3"
  },
  "language_info": {
   "codemirror_mode": {
    "name": "ipython",
    "version": 3
   },
   "file_extension": ".py",
   "mimetype": "text/x-python",
   "name": "python",
   "nbconvert_exporter": "python",
   "pygments_lexer": "ipython3",
   "version": "3.9.10"
  },
  "orig_nbformat": 4
 },
 "nbformat": 4,
 "nbformat_minor": 2
}
